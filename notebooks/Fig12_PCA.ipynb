{
 "cells": [
  {
   "cell_type": "markdown",
   "id": "de4d07a3-af6f-4da9-be77-827b528f9a5b",
   "metadata": {},
   "source": [
    "# Fig. 12: Number of Principal Components removed"
   ]
  },
  {
   "cell_type": "code",
   "execution_count": 25,
   "id": "f6ba7916-7ada-4ab2-8195-5d060794267a",
   "metadata": {
    "tags": []
   },
   "outputs": [],
   "source": [
    "import os\n",
    "import warnings\n",
    "import pickle\n",
    "from matplotlib import pyplot as plt\n",
    "import numpy as np\n",
    "from scipy.interpolate import interp2d, NearestNDInterpolator"
   ]
  },
  {
   "cell_type": "code",
   "execution_count": 26,
   "id": "81baac0c-d5c1-45d7-9ee6-d1825af7b2f6",
   "metadata": {
    "tags": []
   },
   "outputs": [],
   "source": [
    "APJ_SINGLE_COL = 3.5\n",
    "APJ_DOUBLE_COL = 7.\n",
    "TEXTSIZE=12\n",
    "\n",
    "tableau20 = [(31, 119, 180), (174, 199, 232), (255, 127, 14), (255, 187, 120),  \n",
    "             (44, 160, 44), (152, 223, 138), (214, 39, 40), (255, 152, 150),  \n",
    "             (148, 103, 189), (197, 176, 213), (140, 86, 75), (196, 156, 148),  \n",
    "             (227, 119, 194), (247, 182, 210), (127, 127, 127), (199, 199, 199),  \n",
    "             (188, 189, 34), (219, 219, 141), (23, 190, 207), (158, 218, 229)]\n",
    "for i in range(len(tableau20)):  \n",
    "    r, g, b = tableau20[i]  \n",
    "    tableau20[i] = (r / 255., g / 255., b / 255.)"
   ]
  },
  {
   "cell_type": "code",
   "execution_count": 27,
   "id": "aa07a7c5-6f6c-46b0-ac36-1aaac139be60",
   "metadata": {
    "tags": []
   },
   "outputs": [
    {
     "ename": "FileNotFoundError",
     "evalue": "[Errno 2] No such file or directory",
     "output_type": "error",
     "traceback": [
      "\u001b[0;31m---------------------------------------------------------------------------\u001b[0m",
      "\u001b[0;31mFileNotFoundError\u001b[0m                         Traceback (most recent call last)",
      "Cell \u001b[0;32mIn[27], line 3\u001b[0m\n\u001b[1;32m      1\u001b[0m kp \u001b[38;5;241m=\u001b[39m \u001b[38;5;241m200.7e3\u001b[39m\n\u001b[1;32m      2\u001b[0m vsys \u001b[38;5;241m=\u001b[39m \u001b[38;5;241m-\u001b[39m\u001b[38;5;241m20e3\u001b[39m\n\u001b[0;32m----> 3\u001b[0m dirin_xcor \u001b[38;5;241m=\u001b[39m os\u001b[38;5;241m.\u001b[39mpath\u001b[38;5;241m.\u001b[39mabspath(\u001b[38;5;124m'\u001b[39m\u001b[38;5;124m../data/xcor_out\u001b[39m\u001b[38;5;124m'\u001b[39m)\n\u001b[1;32m      4\u001b[0m modelname \u001b[38;5;241m=\u001b[39m \u001b[38;5;124m'\u001b[39m\u001b[38;5;124mW189b_pRT_1D_Yan22_chem_eq_all\u001b[39m\u001b[38;5;124m'\u001b[39m\n\u001b[1;32m      5\u001b[0m dataset \u001b[38;5;241m=\u001b[39m \u001b[38;5;124m'\u001b[39m\u001b[38;5;124mWASP-189_2023A_2023_06_09_2024A_2024_04_19\u001b[39m\u001b[38;5;124m'\u001b[39m\n",
      "File \u001b[0;32m<frozen posixpath>:404\u001b[0m, in \u001b[0;36mabspath\u001b[0;34m(path)\u001b[0m\n",
      "\u001b[0;31mFileNotFoundError\u001b[0m: [Errno 2] No such file or directory"
     ]
    }
   ],
   "source": [
    "kp = 200.7e3\n",
    "vsys = -20e3\n",
    "dirin_xcor = os.path.abspath('../data/xcor_out')\n",
    "modelname = 'W189b_pRT_1D_Yan22_chem_eq_all'\n",
    "dataset = 'WASP-189_2023A_2023_06_09_2024A_2024_04_19'\n",
    "inj_list = [\n",
    "    '',\n",
    "    '_sf_1.000_dvsys_inj_-30_dkp_inj_-30',\n",
    "    '_sf_1.000_dvsys_inj_30_dkp_inj_-30',\n",
    "    '_sf_1.000_dvsys_inj_30_dkp_inj_30',\n",
    "    '_sf_1.000_dvsys_inj_-30_dkp_inj_30'\n",
    "]\n",
    "labels = [\n",
    "    r'No injection at $(\\Delta v_{\\rm{sys}}$, $\\Delta K_{\\rm{p}})=(0, 0)$ km/s',\n",
    "    r'Injected at $(\\Delta v_{\\rm{sys}}$, $\\Delta K_{\\rm{p}})=(-30, -30)$ km/s',\n",
    "    r'Injected at $(\\Delta v_{\\rm{sys}}$, $\\Delta K_{\\rm{p}})=(30, -30)$ km/s',\n",
    "    r'Injected at $(\\Delta v_{\\rm{sys}}$, $\\Delta K_{\\rm{p}})=(30, 30)$ km/s',\n",
    "    r'Injected at $(\\Delta v_{\\rm{sys}}$, $\\Delta K_{\\rm{p}})=(-30, 30)$ km/s'\n",
    "]\n",
    "colors = [tableau20[0], tableau20[2], tableau20[2], tableau20[2], tableau20[2]]\n",
    "lss = ['-', '-', '--', ':', 'dashdot']\n",
    "\n",
    "dvsys_list = [0., -30e3, 30e3, 30e3, -30e3]\n",
    "dkp_list = [0., -30e3, -30e3, 30e3, 30e3]\n",
    "\n",
    "plt.subplots(figsize=(APJ_SINGLE_COL*1.68, APJ_SINGLE_COL*1.))\n",
    "npc_list = np.arange(2,13,1)\n",
    "snr_at_inj = np.zeros(len(npc_list)) * np.nan\n",
    "for inj, dkp_inj, dvsys_inj, label, c, ls in zip(inj_list, dvsys_list, dkp_list, labels, colors, lss):\n",
    "    for n, npc in enumerate(npc_list):\n",
    "        try:\n",
    "            dirin = f'{dirin_xcor}/{dataset}/{modelname}/NPC_{npc}_mp_70{inj}_ccw/'\n",
    "            file = 'snrmap.pkl'\n",
    "            kp_values, vsys_values, snrmap = pickle.load(open(os.path.join(dirin, file), 'rb'))\n",
    "\n",
    "\n",
    "            #points = np.array( (vsys_grid.flatten(), kp_grid.flatten()) ).T\n",
    "            values = snrmap.flatten()\n",
    "\n",
    "            with warnings.catch_warnings():\n",
    "                warnings.simplefilter(\"ignore\")\n",
    "                f = interp2d(vsys_values, kp_values, snrmap.T, kind='cubic')\n",
    "            snr_at_inj[n] = f(dvsys_inj, kp+dkp_inj)[0]\n",
    "            snr_at_inj[n] = np.max(snrmap)\n",
    "        except:\n",
    "            continue\n",
    "\n",
    "    plt.plot(npc_list, snr_at_inj, label=label, color=c, ls =ls)\n",
    "plt.axhline(y=5, lw=2, ls='--', color='darkgreen', label='Detection Threshold (S/N>5)')\n",
    "plt.axvline(x=7, lw=2, ls='--', color='gray', label='Number of components used in this work')\n",
    "\n",
    "plt.xticks(npc_list)\n",
    "plt.xlim(npc_list.min(),npc_list.max())\n",
    "plt.legend(bbox_to_anchor=(1.4, 0.5), loc='center', fontsize=TEXTSIZE-2)\n",
    "plt.grid()\n",
    "plt.xlabel('No. Principal Components Removed', size=TEXTSIZE)\n",
    "plt.ylabel('Detection S/N', size=TEXTSIZE)\n",
    "fname = 'Fig12_pca_inj_noninj'\n",
    "plt.savefig('../figures/'+fname+'.png', dpi=200, bbox_inches='tight')\n",
    "plt.savefig('../figures/'+fname+'.pdf', bbox_inches='tight')\n",
    "plt.show()"
   ]
  },
  {
   "cell_type": "code",
   "execution_count": null,
   "id": "f79a418a-4fd1-498a-8cda-3ddacc3c56ac",
   "metadata": {},
   "outputs": [],
   "source": []
  },
  {
   "cell_type": "code",
   "execution_count": null,
   "id": "03707c8a-7414-4394-95be-f4d239c139cd",
   "metadata": {},
   "outputs": [],
   "source": []
  }
 ],
 "metadata": {
  "kernelspec": {
   "display_name": "Python 3 (ipykernel)",
   "language": "python",
   "name": "python3"
  },
  "language_info": {
   "codemirror_mode": {
    "name": "ipython",
    "version": 3
   },
   "file_extension": ".py",
   "mimetype": "text/x-python",
   "name": "python",
   "nbconvert_exporter": "python",
   "pygments_lexer": "ipython3",
   "version": "3.11.5"
  }
 },
 "nbformat": 4,
 "nbformat_minor": 5
}
