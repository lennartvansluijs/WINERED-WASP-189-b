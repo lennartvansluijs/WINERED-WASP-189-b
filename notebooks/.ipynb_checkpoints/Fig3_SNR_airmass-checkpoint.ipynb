{
 "cells": [
  {
   "cell_type": "markdown",
   "id": "81cdbc5b-ee6f-4ac8-b338-30f8fd3c9d46",
   "metadata": {
    "tags": []
   },
   "source": [
    "# Figure 3: Nodding position versus S/N"
   ]
  },
  {
   "cell_type": "code",
   "execution_count": 19,
   "id": "b6e62874-d487-41ba-ae4f-0b75e433a38b",
   "metadata": {
    "tags": []
   },
   "outputs": [],
   "source": [
    "import os\n",
    "import numpy as np\n",
    "import matplotlib.pyplot as plt\n",
    "from scipy.stats import binned_statistic\n",
    "from astropy.io import fits"
   ]
  },
  {
   "cell_type": "markdown",
   "id": "c0051177-7307-453b-b559-883af87c154f",
   "metadata": {},
   "source": [
    "Load data corresponding with the S/N and phase coverage."
   ]
  },
  {
   "cell_type": "code",
   "execution_count": 20,
   "id": "1b8d65ad-de58-48bb-97cb-5a9b9d816c99",
   "metadata": {
    "tags": []
   },
   "outputs": [],
   "source": [
    "wls_cube_n1 = np.load('../data/snr/wls_cube_night_1.npy')\n",
    "wls_cube_n2 = np.load('../data/snr/wls_cube_night_2.npy')\n",
    "\n",
    "snr_cube_n1 = np.load('../data/snr/snr_cube_night_1.npy')\n",
    "snr_cube_n2 = np.load('../data/snr/snr_cube_night_2.npy')\n",
    "\n",
    "ph_arr_n1 = np.load('../data/phase_coverage/ph_arr_night_1.npy')\n",
    "ph_arr_n2 = np.load('../data/phase_coverage/ph_arr_night_2.npy')\n",
    "\n",
    "am_arr_n1 = np.load('../data/phase_coverage/am_arr_night_1.npy')\n",
    "am_arr_n2 = np.load('../data/phase_coverage/am_arr_night_2.npy')"
   ]
  },
  {
   "cell_type": "markdown",
   "id": "2ac0455e-3e33-4da7-addc-675503f88d89",
   "metadata": {
    "tags": []
   },
   "source": [
    "Load humidity data and nodding position of each frame."
   ]
  },
  {
   "cell_type": "code",
   "execution_count": 21,
   "id": "8e83b015-fcaa-4ac7-99ab-f283e3ebe5c8",
   "metadata": {
    "tags": []
   },
   "outputs": [],
   "source": [
    "frame = 1\n",
    "hum = []\n",
    "nodpos = []\n",
    "temp = []\n",
    "for frame in range(200):\n",
    "    try:\n",
    "        hdul = fits.open(f'/Users/lsluijs/Projects/WINERED/pre_processing/WASP-189/2023A/2023_06_09/WARP_out/WASP-189_NO{frame}/onedspec/VAC_norm/fsr1.30/WASP-189_NO{frame}_m138_fsr1.30_VAC_norm.fits')\n",
    "        hum.append(hdul[0].header['OUT-HUM'])\n",
    "        nodpos.append(hdul[0].header['NODPOS'])\n",
    "    except:\n",
    "        pass\n",
    "\n",
    "nodpos_n1 = []\n",
    "nodpos_n2 = []\n",
    "\n",
    "for frame in range(400):\n",
    "    try:\n",
    "        hdul = fits.open(f'/Users/lsluijs/Projects/WINERED/pre_processing/WASP-189/2023A/2023_06_09/WARP_out/WASP-189_NO{frame}/onedspec/VAC_norm/fsr1.30/WASP-189_NO{frame}_m138_fsr1.30_VAC_norm.fits')\n",
    "        value = hdul[0].header['NODPOS']\n",
    "        if 'A' in value:\n",
    "            nodpos_n1.append('A')\n",
    "        if 'B' in value:\n",
    "            nodpos_n1.append('B')\n",
    "    except:\n",
    "        pass\n",
    "\n",
    "for frame in range(400):\n",
    "    try:\n",
    "        hdul = fits.open(f'/Users/lsluijs/Projects/WINERED/pre_processing/WASP-189/2024A/2024_04_19/WARP_out/WASP-189_NO{frame}/onedspec/VAC_norm/fsr1.30/WASP-189_NO{frame}_m138_fsr1.30_VAC_norm.fits')\n",
    "        nodpos_n2.append(hdul[0].header['NODPOS'])\n",
    "    except:\n",
    "        pass\n",
    "\n",
    "\n",
    "nodpos_n1 = np.array(nodpos_n1)\n",
    "nodpos_n2 = np.array(nodpos_n2)\n",
    "\n",
    "nodpos_mask_n1 = []\n",
    "for np1, np2 in zip(nodpos_n1[:-1], nodpos_n1[1:]):\n",
    "    if np1 == np2:\n",
    "        nodpos_mask_n1.append(True)\n",
    "    else:\n",
    "        nodpos_mask_n1.append(False)\n",
    "\n",
    "nodpos_mask_n2 = []\n",
    "for np1, np2 in zip(nodpos_n2[:-1], nodpos_n2[1:]):\n",
    "    if np1 == np2:\n",
    "        nodpos_mask_n2.append(True)\n",
    "    else:\n",
    "        nodpos_mask_n2.append(False)\n",
    "\n",
    "nodpos_mask_n1 = np.array(nodpos_mask_n1)\n",
    "nodpos_mask_n2 = np.array(nodpos_mask_n2)"
   ]
  },
  {
   "cell_type": "markdown",
   "id": "ee122dd8-0149-489c-ac96-5d8109dd753e",
   "metadata": {},
   "source": [
    "Some plotting parameters."
   ]
  },
  {
   "cell_type": "code",
   "execution_count": 22,
   "id": "34fa6405-9fb4-4197-9c05-721d0c30ccb8",
   "metadata": {
    "tags": []
   },
   "outputs": [],
   "source": [
    "APJ_SINGLE_COL = 3.5\n",
    "APJ_DOUBLE_COL = 7.\n",
    "TEXTSIZE=12\n",
    "TICKSIZE=10\n",
    "\n",
    "WR_RED = '#80273F'\n",
    "WR_GREEN = '#008000'"
   ]
  },
  {
   "cell_type": "code",
   "execution_count": null,
   "id": "3ac94b74-861a-4ee3-9971-58ecbdc8d375",
   "metadata": {
    "tags": []
   },
   "outputs": [],
   "source": [
    "fig, ax_snr = plt.subplots(figsize=(APJ_SINGLE_COL, APJ_SINGLE_COL/1.68))\n",
    "\n",
    "lines = []\n",
    "\n",
    "for i, (snr_cube, plot_label, marker, ph_arr, nodpos_mask) in enumerate(zip(\n",
    "    (snr_cube_n1, snr_cube_n2),\n",
    "    ('night 1', 'night 2'),\n",
    "    (8, 9),\n",
    "    (ph_arr_n1, ph_arr_n2),\n",
    "    (nodpos_mask_n1, nodpos_mask_n2)\n",
    "    )):\n",
    "    for mask, np_color, mask_label in zip((~nodpos_mask, nodpos_mask), ('red', 'blue'), ('A-B', 'A-A or B-B')):\n",
    "        frames = np.arange(0.5, snr_cube.shape[0], 1)\n",
    "        \n",
    "        if plot_label == 'night 2':\n",
    "            marker = 'x'\n",
    "            if np_color == 'red':\n",
    "                np_color = 'green'\n",
    "            else:\n",
    "                np_color = 'magenta'\n",
    "\n",
    "        ph_arr_t = ph_arr[:-1] + np.diff(ph_arr)/2.\n",
    "        snr_time = np.median(snr_cube, axis=(1,2))\n",
    "        ax_snr.scatter(ph_arr_t[mask], snr_time[mask], color=np_color, s=20, label=plot_label + ' & ' + mask_label, marker=marker)\n",
    "\n",
    "ax_snr.set_ylim(0,400)\n",
    "    \n",
    "eclipse_window = (0.46685671346545227, 0.5331432865345478)\n",
    "ax_snr.set_ylim(0, 420)\n",
    "\n",
    "ax_snr.set_xlim(0.41,0.59)\n",
    "ax_snr.spines['top'].set_visible(False)\n",
    "ax_snr.spines['right'].set_visible(False)\n",
    "\n",
    "ax_snr.legend(loc='upper center', bbox_to_anchor=(0.5, 1.5), ncol=2)\n",
    "\n",
    "\n",
    "ax_snr.set_xlabel('Relative orbital phase', size=TEXTSIZE)\n",
    "ax_snr.set_ylabel('S/N', size=TEXTSIZE)\n",
    "\n",
    "plt.savefig(f'../figures/Fig3_snr_by_nodding_pattern.png', dpi=150, bbox_inches='tight')\n",
    "plt.savefig(f'../figures/Fig3_snr_by_nodding_pattern.pdf', bbox_inches='tight')\n",
    "plt.show()"
   ]
  },
  {
   "cell_type": "code",
   "execution_count": null,
   "id": "f0926330-8d19-41d9-b4fd-1230033950e8",
   "metadata": {},
   "outputs": [],
   "source": []
  },
  {
   "cell_type": "code",
   "execution_count": null,
   "id": "b4b4d0fd-5e3f-4b8c-abd7-60b3a4716369",
   "metadata": {},
   "outputs": [],
   "source": []
  }
 ],
 "metadata": {
  "kernelspec": {
   "display_name": "Python 3 (ipykernel)",
   "language": "python",
   "name": "python3"
  },
  "language_info": {
   "codemirror_mode": {
    "name": "ipython",
    "version": 3
   },
   "file_extension": ".py",
   "mimetype": "text/x-python",
   "name": "python",
   "nbconvert_exporter": "python",
   "pygments_lexer": "ipython3",
   "version": "3.11.5"
  }
 },
 "nbformat": 4,
 "nbformat_minor": 5
}
