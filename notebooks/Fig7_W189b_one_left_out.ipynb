{
 "cells": [
  {
   "cell_type": "markdown",
   "id": "6c6957be-5d42-4a9c-af59-e8f45c269793",
   "metadata": {
    "tags": []
   },
   "source": [
    "# Fig. 7: S/N of the fiducial model with and without a single specie"
   ]
  },
  {
   "cell_type": "code",
   "execution_count": 41,
   "id": "a6cce22f-03ec-4af8-afbc-4942e5d64dd7",
   "metadata": {
    "tags": []
   },
   "outputs": [],
   "source": [
    "import pickle\n",
    "from matplotlib import pyplot as plt\n",
    "import os\n",
    "from astropy import units as u\n",
    "import sys\n",
    "import numpy as np\n",
    "import matplotlib as mpl\n",
    "from mpl_toolkits.axes_grid1 import make_axes_locatable\n",
    "from matplotlib.colors import LinearSegmentedColormap\n",
    "from  matplotlib.colors import LinearSegmentedColormap\n",
    "from matplotlib.cm import ScalarMappable\n",
    "import matplotlib.gridspec as gridspec\n",
    "from astropy.stats import sigma_clip"
   ]
  },
  {
   "cell_type": "code",
   "execution_count": 42,
   "id": "099eade7-d9f2-4679-a46a-5cc46de1cfc1",
   "metadata": {
    "tags": []
   },
   "outputs": [],
   "source": [
    "vsys = -24.452e3 * (u.m/u.s) # ?+23\n",
    "kp = 200.7e3 * (u.m/u.s) # ?+23\n",
    "LABELSIZE=11"
   ]
  },
  {
   "cell_type": "code",
   "execution_count": 43,
   "id": "6e79e59d-c03a-447c-86b5-a13ab8576f8b",
   "metadata": {
    "tags": []
   },
   "outputs": [],
   "source": [
    "APJ_SINGLE_COL = 3.5\n",
    "APJ_DOUBLE_COL = 7.\n",
    "TEXTSIZE=12\n",
    "TICKSIZE=12"
   ]
  },
  {
   "cell_type": "code",
   "execution_count": 44,
   "id": "78c3639a-5b3c-4816-8315-2fd5f4800b79",
   "metadata": {
    "tags": []
   },
   "outputs": [],
   "source": [
    "def get_planet_params(data, trial_kp, trial_vsys):\n",
    "    yy, xx = np.meshgrid(trial_kp, trial_vsys)\n",
    "    indmax = np.unravel_index(data.argmax(), data.shape)\n",
    "    vsys_max, kp_max = xx[indmax], yy[indmax]\n",
    "    value_max = data[indmax]\n",
    "    return vsys_max, kp_max, value_max"
   ]
  },
  {
   "cell_type": "code",
   "execution_count": 45,
   "id": "8e688a71-6750-4f46-8c99-353b6d6e75bd",
   "metadata": {
    "tags": []
   },
   "outputs": [],
   "source": [
    "\n",
    "def plot_detection_matrix(data, dkp_all, dvsys_all, kp, vsys, mode='snr', title='', interp_method='bicubic', ax='None', **kwargs):\n",
    "    \"\"\"Plot Kp-vsys map.\"\"\"\n",
    "    extend='neither'\n",
    "    quantity = r'S/N'\n",
    "    cmap = kwargs.pop('cmap', 'Reds_r')\n",
    "    markercolor = 'w'\n",
    "    snr_min = kwargs.pop('snr_min', np.nanmin(data))\n",
    "    snr_max = kwargs.pop('snr_max', np.ceil(10*np.nanmax(data))/10.)\n",
    "\n",
    "    snr_step = kwargs.pop('snr_step', 0.25)\n",
    "    ncolors = int(1+(snr_max - snr_min)/snr_step)\n",
    "    if ncolors > 256:\n",
    "        ncolors = 256\n",
    "\n",
    "    cmap = mpl.colormaps[cmap]\n",
    "    cmap.set_bad('gray',1.)\n",
    "    bounds = np.round(np.linspace(snr_min, snr_max, ncolors), 1)\n",
    "    norm = mpl.colors.BoundaryNorm(bounds, cmap.N)\n",
    "\n",
    "\n",
    "    # Set appropriate ranges\n",
    "    dvsys = dvsys_all[1]-dvsys_all[0]\n",
    "    dkp = dkp_all[1]-dkp_all[0]\n",
    "    extent=[\n",
    "        (dvsys_all[0]-dvsys/2.)/1e3,\n",
    "        (dvsys_all[-1]+dvsys/2.)/1e3,\n",
    "        (dkp_all[0]-dkp/2.+kp)/1e3,\n",
    "        (dkp_all[-1]+dkp/2.+kp)/1e3\n",
    "    ]\n",
    "\n",
    "    # Plot matrix\n",
    "    im = ax.imshow(data.T, origin='lower',\n",
    "                   extent=extent,\n",
    "                   aspect='auto', cmap=cmap,\n",
    "                   norm=norm, interpolation=interp_method)\n",
    "    ax.tick_params(labelsize=TEXTSIZE)\n",
    "    \n",
    "    divider = make_axes_locatable(ax)\n",
    "    cax = divider.append_axes('right', size='5%', pad=0.0)\n",
    "\n",
    "    #ax.set_xlabel(r'System velocity (km/s)', size=TEXTSIZE)\n",
    "    #ax.set_ylabel(r'$\\rm{K}_{\\rm{p}}$ (km/s)', size=TEXTSIZE)\n",
    "\n",
    "    # Plot dotted lines to the planet's estimate (vsys, kp)\n",
    "    bads = np.isnan(data)\n",
    "    data_masked = np.copy(data)\n",
    "    data_masked[bads] = 0.\n",
    "    vsys_max, kp_max, value_max = get_planet_params(data_masked, kp+dkp_all, dvsys_all) # find min instead of max in this mode\n",
    "\n",
    "    ax.plot([vsys/1e3, vsys/1e3], [extent[2], (kp-15e3)/1e3], ls='--', color='w', lw=2, label='expected')\n",
    "    ax.plot([vsys/1e3, vsys/1e3], [(kp+15e3)/1e3, extent[3]-25], ls='--', color='w', lw=2)\n",
    "    ax.plot([extent[0], (vsys-10e3)/1e3], [kp/1e3, kp/1e3], ls='--', color='w', lw=2)\n",
    "    ax.plot([(vsys+10e3)/1e3, extent[1]], [kp/1e3, kp/1e3], ls='--', color='w', lw=2)\n",
    "    ax.scatter( (vsys_max)/1e3, (kp_max)/1e3, marker=\"8\", s=20, facecolors='w', edgecolors='k', linewidths=0.5, label='maximum SNR')\n",
    "    \n",
    "    # Add text with highest SNR\n",
    "    ax.annotate('{} = {:.1f}\\n'.format(quantity, value_max),\n",
    "                (0.5, 0.975), xycoords='axes fraction', ha='center', va='top', size=TEXTSIZE, color='w', fontweight='bold')\n",
    "\n",
    "    # Plot colorbar\n",
    "    cbar = plt.colorbar(mappable=im, cax=cax,extend=extend)\n",
    "    #cbar.set_label('{}'.format(quantity), size=TEXTSIZE)\n",
    "    cax.tick_params(labelsize=TEXTSIZE)\n",
    "\n",
    "    # Set title\n",
    "    #leg = ax.legend(fontsize=TEXTSIZE, frameon=False)\n",
    "    #plt.setp(leg.get_texts(), color='w')\n",
    "    ax.set_xlim(dvsys_all[0]/1e3, dvsys_all[-1]/1e3)\n",
    "    ax.set_ylim(kp/1e3+dkp_all[0]/1e3, kp/1e3+dkp_all[-1]/1e3)\n",
    "    return ax, cax, cbar"
   ]
  },
  {
   "cell_type": "code",
   "execution_count": 46,
   "id": "6a08574b-bb19-4666-a476-bda5f0a212c4",
   "metadata": {
    "tags": []
   },
   "outputs": [
    {
     "data": {
      "image/png": "[encoded data removed]",
      "text/plain": [
       "<Figure size 350x350 with 1 Axes>"
      ]
     },
     "metadata": {},
     "output_type": "display_data"
    }
   ],
   "source": [
    "species = [\n",
    "    'Fe',\n",
    "    '39K__Allard',\n",
    "    '23Na__Allard',\n",
    "    'Ti-O-NatAbund__Toto',\n",
    "    '51V-16O__HyVO',\n",
    "    'FeH',\n",
    "    'Ti',\n",
    "    'V',\n",
    "    'Ca',\n",
    "    'Ca_p',\n",
    "    'Si',\n",
    "    'Mg',\n",
    "    'Cr',\n",
    "    'Al',\n",
    "    'V_p',\n",
    "    'CO',\n",
    "]\n",
    "\n",
    "species_label = np.array([\n",
    "    'Fe',\n",
    "    'K',\n",
    "    'Na',\n",
    "    'TiO',\n",
    "    'VO',\n",
    "    'FeH',\n",
    "    'Ti',\n",
    "    'V',\n",
    "    'Ca',\n",
    "    r'Ca$^+$',\n",
    "    'Si',\n",
    "    'Mg',\n",
    "    'Cr',\n",
    "    'Al',\n",
    "    r'V$^+$',\n",
    "    'CO',\n",
    "])\n",
    "\n",
    "obs_id= 'WASP-189_2023A_2023_06_09_2024A_2024_04_19'\n",
    "ncols = int(np.ceil(np.sqrt(float(len(species)))))\n",
    "nrows = int(np.ceil(np.sqrt(float(len(species)))))\n",
    "\n",
    "dirin_xcor = '../data/xcor_out'\n",
    "scaling = 1 # 0.38\n",
    "dr_id = 'NPC_7_mp_70_ccw'\n",
    "ns = -1\n",
    "\n",
    "ncols = 4\n",
    "nrows = 3\n",
    "\n",
    "snr_fiducial = 9.755\n",
    "snr_species = np.zeros(len(species)) * np.nan\n",
    "for ns in range(len(species)):\n",
    "        dirin = f'{dirin_xcor}/{obs_id}/W189b_pRT_1D_Yan22_chem_eq_all_without_{species[ns]}/{dr_id}'\n",
    "        trial_kp, trial_vsys, snrmatrix = pickle.load(open(os.path.join(dirin, 'snrmap.pkl'), 'rb'))\n",
    "        snr_species[ns] = snrmatrix.max()  # / np.std(sigma_clip(signalmap, 2))\n",
    "\n",
    "# Define the colors for the colormap\n",
    "colors = [(0, 1, 0), (1, 0, 0), (1, 0, 0)]  # Green to Red\n",
    "cmap_name = 'green_to_red'\n",
    "\n",
    "cm = LinearSegmentedColormap.from_list(cmap_name, colors, N=100)\n",
    "my_cmap=LinearSegmentedColormap.from_list('rg',[\"r\", \"orange\", \"g\"], N=256) \n",
    "\n",
    "fig, ax = plt.subplots(figsize=(APJ_SINGLE_COL, APJ_SINGLE_COL))\n",
    "ind_sorted = np.argsort(snr_species)[::-1]\n",
    "colors = my_cmap(snr_fiducial - snr_species[ind_sorted])\n",
    "ax.barh(species_label[ind_sorted], snr_fiducial - snr_species[ind_sorted], color=colors, edgecolor='black', linewidth=1.)\n",
    "\n",
    "ax.set_xlabel(r'$\\Delta$ S/N', size=TEXTSIZE)\n",
    "ax.set_ylabel(r'Excluded opacity source', size=TEXTSIZE)\n",
    "ax.set_xticks([-1,0,1,2])\n",
    "ax.tick_params(axis='x', labelsize=TICKSIZE)\n",
    "ax.tick_params(axis='y', labelsize=TICKSIZE)\n",
    "ax.axvline(x=0, color='k')\n",
    "ax.set_axisbelow(True)\n",
    "ax.grid(True)\n",
    "\n",
    "plt.subplots_adjust(right=0.75)\n",
    "\n",
    "ax.set_title(r'$S/N_{\\rm{Fiducial}}$ - $S/N_{\\rm{Fiducial \\ without \\ one}}$', size=TEXTSIZE)\n",
    "\n",
    "plt.savefig(f'../figures/Fig7_snr_diff_fiducial_without_one.pdf', bbox_inches='tight')\n",
    "plt.savefig(f'../figures/Fig7_snr_diff_fiducial_without_one.png', dpi=200, bbox_inches='tight')\n",
    "plt.show()"
   ]
  },
  {
   "cell_type": "code",
   "execution_count": null,
   "id": "359c28b9-cf13-4561-a676-e3fbbf5e238b",
   "metadata": {},
   "outputs": [],
   "source": []
  }
 ],
 "metadata": {
  "kernelspec": {
   "display_name": "Python 3 (ipykernel)",
   "language": "python",
   "name": "python3"
  },
  "language_info": {
   "codemirror_mode": {
    "name": "ipython",
    "version": 3
   },
   "file_extension": ".py",
   "mimetype": "text/x-python",
   "name": "python",
   "nbconvert_exporter": "python",
   "pygments_lexer": "ipython3",
   "version": "3.11.5"
  }
 },
 "nbformat": 4,
 "nbformat_minor": 5
}
